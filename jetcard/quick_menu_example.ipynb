{
 "cells": [
  {
   "cell_type": "code",
   "execution_count": null,
   "id": "776dc971",
   "metadata": {},
   "outputs": [],
   "source": [
    "from jetcard.widgets import Menu, FloatSlider, IntSlider, Button, reset_menu\n",
    "from IPython.display import display\n",
    "import time"
   ]
  },
  {
   "cell_type": "code",
   "execution_count": null,
   "id": "9e7f5e7b",
   "metadata": {},
   "outputs": [],
   "source": [
    "reset_menu()"
   ]
  },
  {
   "cell_type": "code",
   "execution_count": null,
   "id": "dd52bb98",
   "metadata": {},
   "outputs": [],
   "source": [
    "a = FloatSlider(min=0.0, max=1.0, step=0.01, value=0.2, description='a')\n",
    "b = FloatSlider(min=0.0, max=1.0, value=0.01, description='b')\n",
    "c = Menu(description='c')\n",
    "d = FloatSlider(min=0.0, max=1.0, step=0.001, value=0.01, description='d', root=c)\n",
    "e = FloatSlider(min=0.0, max=1.0, step=0.001, value=0.01, description='e', root=c)\n",
    "f = IntSlider(value=7, min=0, max=10, description='f')"
   ]
  },
  {
   "cell_type": "code",
   "execution_count": null,
   "id": "d216bb94",
   "metadata": {},
   "outputs": [],
   "source": [
    "display(a,b,d,e)"
   ]
  },
  {
   "cell_type": "code",
   "execution_count": null,
   "id": "f1cfe641",
   "metadata": {},
   "outputs": [],
   "source": [
    "button = Button(description=\"Click Me!\")\n",
    "\n",
    "def on_button_clicked(func_obj, b):\n",
    "    if func_obj != None:\n",
    "        func_obj.callback_print(\"Button clicked\")\n",
    "        time.sleep(0.5)\n",
    "    a.value = a.value + 0.1\n",
    "\n",
    "button.on_click(on_button_clicked)"
   ]
  },
  {
   "cell_type": "code",
   "execution_count": null,
   "id": "9518bf83",
   "metadata": {},
   "outputs": [],
   "source": [
    "display(button)"
   ]
  },
  {
   "cell_type": "code",
   "execution_count": null,
   "id": "b6917052",
   "metadata": {},
   "outputs": [],
   "source": []
  }
 ],
 "metadata": {
  "kernelspec": {
   "display_name": "Python 3",
   "language": "python",
   "name": "python3"
  },
  "language_info": {
   "codemirror_mode": {
    "name": "ipython",
    "version": 3
   },
   "file_extension": ".py",
   "mimetype": "text/x-python",
   "name": "python",
   "nbconvert_exporter": "python",
   "pygments_lexer": "ipython3",
   "version": "3.6.9"
  }
 },
 "nbformat": 4,
 "nbformat_minor": 5
}
